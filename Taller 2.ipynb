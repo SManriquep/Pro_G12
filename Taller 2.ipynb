{
  "nbformat": 4,
  "nbformat_minor": 0,
  "metadata": {
    "colab": {
      "provenance": [],
      "collapsed_sections": [],
      "authorship_tag": "ABX9TyNwxrZyWejfgEgLnQpFRLWo",
      "include_colab_link": true
    },
    "kernelspec": {
      "name": "python3",
      "display_name": "Python 3"
    },
    "language_info": {
      "name": "python"
    }
  },
  "cells": [
    {
      "cell_type": "markdown",
      "metadata": {
        "id": "view-in-github",
        "colab_type": "text"
      },
      "source": [
        "<a href=\"https://colab.research.google.com/github/SManriquep/Pro_G12/blob/main/Taller%202.ipynb\" target=\"_parent\"><img src=\"https://colab.research.google.com/assets/colab-badge.svg\" alt=\"Open In Colab\"/></a>"
      ]
    },
    {
      "cell_type": "code",
      "execution_count": 1,
      "metadata": {
        "colab": {
          "base_uri": "https://localhost:8080/"
        },
        "id": "cIZdAD4-Jfx1",
        "outputId": "3f8be309-e770-4c93-a967-ca85636eb2de"
      },
      "outputs": [
        {
          "output_type": "stream",
          "name": "stdout",
          "text": [
            "3\n",
            "El número 3 es impar.\n"
          ]
        }
      ],
      "source": [
        "# # Ejercicio para saber si el número es par o impar\n",
        "\n",
        "num = int(input())\n",
        "if num % 2 == 0:\n",
        "    print(\"El número\",num,\"es par.\")\n",
        "else:\n",
        "    print(\"El número\",num,\"es impar.\")\n"
      ]
    },
    {
      "cell_type": "code",
      "source": [
        "# # Ejercicio para calcular el porcentaje de un número\n",
        "\n",
        "print( \"Ingrese el número base: \")\n",
        "num = float(input())\n",
        "porc = 101\n",
        "while (porc > 100):\n",
        "  print(\"\\033[1m Ingrese el % que deseea calcular (debe ser un valor entre 0 y 100)1 \\033[0m\")\n",
        "  porc = float(input())\n",
        "  if (porc > 100):\n",
        "    print (\"\\033[91m Error: El valor \", porc, \" no es valido \\033[0m\")\n",
        "\n",
        "print(\"El \", porc, \"% de \", num, \"es\", num * porc / 100)"
      ],
      "metadata": {
        "colab": {
          "base_uri": "https://localhost:8080/"
        },
        "id": "29pEtTLhJoXC",
        "outputId": "24760086-47b3-48aa-a84e-7f75ff724c9b"
      },
      "execution_count": 62,
      "outputs": [
        {
          "output_type": "stream",
          "name": "stdout",
          "text": [
            "Ingrese el número base: \n",
            "50\n",
            "\u001b[1m Ingrese el % que deseea calcular (debe ser un valor entre 0 y 100) \u001b[0m\n",
            "10\n",
            "El  10.0 % de  50.0 es 5.0\n"
          ]
        }
      ]
    },
    {
      "cell_type": "code",
      "source": [
        "# # Ejercicio para saber si el número es par o impar\n",
        "\n",
        "num = int(input())\n",
        "if num % 2 == 0:\n",
        "    print(\"El número\",num,\"es par.\")\n",
        "    for x in range(num,0,-2):\n",
        "      \n",
        "      print(x)\n",
        "else:\n",
        "    print(\"El número\",num,\"es impar.\")\n",
        "    for x in range(1,num,2):\n",
        "      print(x)"
      ],
      "metadata": {
        "id": "12QVEP_YTKVN"
      },
      "execution_count": null,
      "outputs": []
    },
    {
      "cell_type": "code",
      "source": [
        "# # Ejercicio para saber si el número es par o impar\n",
        "\n",
        "num = int(input())\n",
        "suma=0\n",
        "\n",
        "for x in range(num,-1,-1):\n",
        "  print(str(x), sep=' ', end='')\n",
        "  if x != 0:\n",
        "   print(\" +\", sep=' ', end=' ')\n",
        "  suma = x + suma\n",
        "print(\" = \" + str(suma))"
      ],
      "metadata": {
        "colab": {
          "base_uri": "https://localhost:8080/"
        },
        "id": "MKnyHV54WQQS",
        "outputId": "a2c7ca89-5879-49b2-d2d5-f119c4f15664"
      },
      "execution_count": 60,
      "outputs": [
        {
          "output_type": "stream",
          "name": "stdout",
          "text": [
            "5\n",
            "5 + 4 + 3 + 2 + 1 + 0 = 15\n"
          ]
        }
      ]
    }
  ]
}